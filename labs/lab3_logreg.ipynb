{
  "cells": [
    {
      "cell_type": "markdown",
      "id": "african-marble",
      "metadata": {
        "id": "african-marble"
      },
      "source": [
        "# Лабораторная 3. Логистическая регрессия"
      ]
    },
    {
      "cell_type": "markdown",
      "id": "separate-gateway",
      "metadata": {
        "id": "separate-gateway"
      },
      "source": [
        "## Логистическая регрессия"
      ]
    },
    {
      "cell_type": "markdown",
      "id": "sought-brooklyn",
      "metadata": {
        "id": "sought-brooklyn"
      },
      "source": [
        "Модель логистической регрессии:\n",
        "$$\n",
        "\\hat y = \\sigma (Xw).\n",
        "$$\n",
        "Сигмоида меняется в пределах от 0 до 1 и имеет вид:\n",
        "$$\n",
        "\\sigma(x) = \\frac{1}{1+e^{-x}}.\n",
        "$$\n",
        "\n",
        "Функция потерь log-loss:\n",
        "$$\n",
        "L = -\\frac{1}{\\ell}\\sum_{i = 1}^{\\ell}(y_i\\log(\\hat y_i) + (1 - y_i)\\log(1 - \\hat y_i)),\n",
        "$$\n",
        "где $\\ell$ - количество объектов.\n"
      ]
    },
    {
      "cell_type": "markdown",
      "id": "armed-piano",
      "metadata": {
        "id": "armed-piano"
      },
      "source": [
        "Регуляризация вводится таким же образом, как это было в случае линейной регрессии. Например, функция потерь для $L$-$2$ регуляризации выглядит так:\n",
        "\n",
        "$$\n",
        "\\bar{L}(X, w) = L(X, w) + \\frac{1}{2}\\lambda\\|w\\|^2_2.\n",
        "$$"
      ]
    },
    {
      "cell_type": "code",
      "execution_count": null,
      "id": "manual-launch",
      "metadata": {
        "id": "manual-launch"
      },
      "outputs": [],
      "source": [
        "import numpy as np\n",
        "import pandas as pd\n",
        "import matplotlib.pyplot as plt"
      ]
    },
    {
      "cell_type": "markdown",
      "id": "union-darwin",
      "metadata": {
        "id": "union-darwin"
      },
      "source": [
        "## Практика"
      ]
    },
    {
      "cell_type": "markdown",
      "id": "abroad-hamburg",
      "metadata": {
        "id": "abroad-hamburg"
      },
      "source": [
        "Рассмотрим свойства логистической регрессии на примере классического набора данных [\"Ирисы Фишера\"](https://ru.wikipedia.org/wiki/Ирисы_Фишера). Этот набор состоит из 150 наблюдений, каждое из которых представляет собой четыре измерения: длина наружной доли околоцветника (`sepal length`), ширина наружной доли околоцветника (`sepal width`), длина внутренней доли околоцветника (`petal length`), ширина внутренней доли околоцветника (`petal width`). Каждое наблюдение относится к одному из трёх классов ириса: `setosa`, `versicolor` или `virginica`. Задача состоит в том, чтобы по измерениям предсказать класс цветка.\n",
        "\n",
        "[<img src=\"https://www.embedded-robotics.com/wp-content/uploads/2022/01/Iris-Dataset-Classification.png\" alt=\"drawing\" width=\"800\"/>](https://www.embedded-robotics.com/wp-content/uploads/2022/01/Iris-Dataset-Classification.png)"
      ]
    },
    {
      "cell_type": "code",
      "execution_count": null,
      "id": "several-bradford",
      "metadata": {
        "id": "several-bradford"
      },
      "outputs": [],
      "source": [
        "from sklearn.datasets import load_iris\n",
        "iris = load_iris(as_frame=True)\n",
        "\n",
        "data = iris['data']\n",
        "y = iris['target'].values"
      ]
    },
    {
      "cell_type": "code",
      "source": [
        "print(iris.DESCR)"
      ],
      "metadata": {
        "colab": {
          "base_uri": "https://localhost:8080/"
        },
        "id": "Fm8D1dunmenz",
        "outputId": "ce6b944d-1de2-464a-c519-b4bda90ae59f"
      },
      "id": "Fm8D1dunmenz",
      "execution_count": null,
      "outputs": [
        {
          "output_type": "stream",
          "name": "stdout",
          "text": [
            ".. _iris_dataset:\n",
            "\n",
            "Iris plants dataset\n",
            "--------------------\n",
            "\n",
            "**Data Set Characteristics:**\n",
            "\n",
            ":Number of Instances: 150 (50 in each of three classes)\n",
            ":Number of Attributes: 4 numeric, predictive attributes and the class\n",
            ":Attribute Information:\n",
            "    - sepal length in cm\n",
            "    - sepal width in cm\n",
            "    - petal length in cm\n",
            "    - petal width in cm\n",
            "    - class:\n",
            "            - Iris-Setosa\n",
            "            - Iris-Versicolour\n",
            "            - Iris-Virginica\n",
            "\n",
            ":Summary Statistics:\n",
            "\n",
            "============== ==== ==== ======= ===== ====================\n",
            "                Min  Max   Mean    SD   Class Correlation\n",
            "============== ==== ==== ======= ===== ====================\n",
            "sepal length:   4.3  7.9   5.84   0.83    0.7826\n",
            "sepal width:    2.0  4.4   3.05   0.43   -0.4194\n",
            "petal length:   1.0  6.9   3.76   1.76    0.9490  (high!)\n",
            "petal width:    0.1  2.5   1.20   0.76    0.9565  (high!)\n",
            "============== ==== ==== ======= ===== ====================\n",
            "\n",
            ":Missing Attribute Values: None\n",
            ":Class Distribution: 33.3% for each of 3 classes.\n",
            ":Creator: R.A. Fisher\n",
            ":Donor: Michael Marshall (MARSHALL%PLU@io.arc.nasa.gov)\n",
            ":Date: July, 1988\n",
            "\n",
            "The famous Iris database, first used by Sir R.A. Fisher. The dataset is taken\n",
            "from Fisher's paper. Note that it's the same as in R, but not as in the UCI\n",
            "Machine Learning Repository, which has two wrong data points.\n",
            "\n",
            "This is perhaps the best known database to be found in the\n",
            "pattern recognition literature.  Fisher's paper is a classic in the field and\n",
            "is referenced frequently to this day.  (See Duda & Hart, for example.)  The\n",
            "data set contains 3 classes of 50 instances each, where each class refers to a\n",
            "type of iris plant.  One class is linearly separable from the other 2; the\n",
            "latter are NOT linearly separable from each other.\n",
            "\n",
            ".. dropdown:: References\n",
            "\n",
            "  - Fisher, R.A. \"The use of multiple measurements in taxonomic problems\"\n",
            "    Annual Eugenics, 7, Part II, 179-188 (1936); also in \"Contributions to\n",
            "    Mathematical Statistics\" (John Wiley, NY, 1950).\n",
            "  - Duda, R.O., & Hart, P.E. (1973) Pattern Classification and Scene Analysis.\n",
            "    (Q327.D83) John Wiley & Sons.  ISBN 0-471-22361-1.  See page 218.\n",
            "  - Dasarathy, B.V. (1980) \"Nosing Around the Neighborhood: A New System\n",
            "    Structure and Classification Rule for Recognition in Partially Exposed\n",
            "    Environments\".  IEEE Transactions on Pattern Analysis and Machine\n",
            "    Intelligence, Vol. PAMI-2, No. 1, 67-71.\n",
            "  - Gates, G.W. (1972) \"The Reduced Nearest Neighbor Rule\".  IEEE Transactions\n",
            "    on Information Theory, May 1972, 431-433.\n",
            "  - See also: 1988 MLC Proceedings, 54-64.  Cheeseman et al\"s AUTOCLASS II\n",
            "    conceptual clustering system finds 3 classes in the data.\n",
            "  - Many, many more ...\n",
            "\n"
          ]
        }
      ]
    },
    {
      "cell_type": "code",
      "execution_count": null,
      "id": "77068ebd-7569-4672-b6e6-fdfc55460fc5",
      "metadata": {
        "id": "77068ebd-7569-4672-b6e6-fdfc55460fc5",
        "colab": {
          "base_uri": "https://localhost:8080/",
          "height": 204
        },
        "outputId": "c6df735e-6729-43bc-a642-2f651aacb4db"
      },
      "outputs": [
        {
          "output_type": "execute_result",
          "data": {
            "text/plain": [
              "   sepal length (cm)  sepal width (cm)  petal length (cm)  petal width (cm)\n",
              "0                5.1               3.5                1.4               0.2\n",
              "1                4.9               3.0                1.4               0.2\n",
              "2                4.7               3.2                1.3               0.2\n",
              "3                4.6               3.1                1.5               0.2\n",
              "4                5.0               3.6                1.4               0.2"
            ],
            "text/html": [
              "\n",
              "  <div id=\"df-e44ab23e-a5a4-4a2d-ad53-4041c9939afe\" class=\"colab-df-container\">\n",
              "    <div>\n",
              "<style scoped>\n",
              "    .dataframe tbody tr th:only-of-type {\n",
              "        vertical-align: middle;\n",
              "    }\n",
              "\n",
              "    .dataframe tbody tr th {\n",
              "        vertical-align: top;\n",
              "    }\n",
              "\n",
              "    .dataframe thead th {\n",
              "        text-align: right;\n",
              "    }\n",
              "</style>\n",
              "<table border=\"1\" class=\"dataframe\">\n",
              "  <thead>\n",
              "    <tr style=\"text-align: right;\">\n",
              "      <th></th>\n",
              "      <th>sepal length (cm)</th>\n",
              "      <th>sepal width (cm)</th>\n",
              "      <th>petal length (cm)</th>\n",
              "      <th>petal width (cm)</th>\n",
              "    </tr>\n",
              "  </thead>\n",
              "  <tbody>\n",
              "    <tr>\n",
              "      <th>0</th>\n",
              "      <td>5.1</td>\n",
              "      <td>3.5</td>\n",
              "      <td>1.4</td>\n",
              "      <td>0.2</td>\n",
              "    </tr>\n",
              "    <tr>\n",
              "      <th>1</th>\n",
              "      <td>4.9</td>\n",
              "      <td>3.0</td>\n",
              "      <td>1.4</td>\n",
              "      <td>0.2</td>\n",
              "    </tr>\n",
              "    <tr>\n",
              "      <th>2</th>\n",
              "      <td>4.7</td>\n",
              "      <td>3.2</td>\n",
              "      <td>1.3</td>\n",
              "      <td>0.2</td>\n",
              "    </tr>\n",
              "    <tr>\n",
              "      <th>3</th>\n",
              "      <td>4.6</td>\n",
              "      <td>3.1</td>\n",
              "      <td>1.5</td>\n",
              "      <td>0.2</td>\n",
              "    </tr>\n",
              "    <tr>\n",
              "      <th>4</th>\n",
              "      <td>5.0</td>\n",
              "      <td>3.6</td>\n",
              "      <td>1.4</td>\n",
              "      <td>0.2</td>\n",
              "    </tr>\n",
              "  </tbody>\n",
              "</table>\n",
              "</div>\n",
              "    <div class=\"colab-df-buttons\">\n",
              "\n",
              "  <div class=\"colab-df-container\">\n",
              "    <button class=\"colab-df-convert\" onclick=\"convertToInteractive('df-e44ab23e-a5a4-4a2d-ad53-4041c9939afe')\"\n",
              "            title=\"Convert this dataframe to an interactive table.\"\n",
              "            style=\"display:none;\">\n",
              "\n",
              "  <svg xmlns=\"http://www.w3.org/2000/svg\" height=\"24px\" viewBox=\"0 -960 960 960\">\n",
              "    <path d=\"M120-120v-720h720v720H120Zm60-500h600v-160H180v160Zm220 220h160v-160H400v160Zm0 220h160v-160H400v160ZM180-400h160v-160H180v160Zm440 0h160v-160H620v160ZM180-180h160v-160H180v160Zm440 0h160v-160H620v160Z\"/>\n",
              "  </svg>\n",
              "    </button>\n",
              "\n",
              "  <style>\n",
              "    .colab-df-container {\n",
              "      display:flex;\n",
              "      gap: 12px;\n",
              "    }\n",
              "\n",
              "    .colab-df-convert {\n",
              "      background-color: #E8F0FE;\n",
              "      border: none;\n",
              "      border-radius: 50%;\n",
              "      cursor: pointer;\n",
              "      display: none;\n",
              "      fill: #1967D2;\n",
              "      height: 32px;\n",
              "      padding: 0 0 0 0;\n",
              "      width: 32px;\n",
              "    }\n",
              "\n",
              "    .colab-df-convert:hover {\n",
              "      background-color: #E2EBFA;\n",
              "      box-shadow: 0px 1px 2px rgba(60, 64, 67, 0.3), 0px 1px 3px 1px rgba(60, 64, 67, 0.15);\n",
              "      fill: #174EA6;\n",
              "    }\n",
              "\n",
              "    .colab-df-buttons div {\n",
              "      margin-bottom: 4px;\n",
              "    }\n",
              "\n",
              "    [theme=dark] .colab-df-convert {\n",
              "      background-color: #3B4455;\n",
              "      fill: #D2E3FC;\n",
              "    }\n",
              "\n",
              "    [theme=dark] .colab-df-convert:hover {\n",
              "      background-color: #434B5C;\n",
              "      box-shadow: 0px 1px 3px 1px rgba(0, 0, 0, 0.15);\n",
              "      filter: drop-shadow(0px 1px 2px rgba(0, 0, 0, 0.3));\n",
              "      fill: #FFFFFF;\n",
              "    }\n",
              "  </style>\n",
              "\n",
              "    <script>\n",
              "      const buttonEl =\n",
              "        document.querySelector('#df-e44ab23e-a5a4-4a2d-ad53-4041c9939afe button.colab-df-convert');\n",
              "      buttonEl.style.display =\n",
              "        google.colab.kernel.accessAllowed ? 'block' : 'none';\n",
              "\n",
              "      async function convertToInteractive(key) {\n",
              "        const element = document.querySelector('#df-e44ab23e-a5a4-4a2d-ad53-4041c9939afe');\n",
              "        const dataTable =\n",
              "          await google.colab.kernel.invokeFunction('convertToInteractive',\n",
              "                                                    [key], {});\n",
              "        if (!dataTable) return;\n",
              "\n",
              "        const docLinkHtml = 'Like what you see? Visit the ' +\n",
              "          '<a target=\"_blank\" href=https://colab.research.google.com/notebooks/data_table.ipynb>data table notebook</a>'\n",
              "          + ' to learn more about interactive tables.';\n",
              "        element.innerHTML = '';\n",
              "        dataTable['output_type'] = 'display_data';\n",
              "        await google.colab.output.renderOutput(dataTable, element);\n",
              "        const docLink = document.createElement('div');\n",
              "        docLink.innerHTML = docLinkHtml;\n",
              "        element.appendChild(docLink);\n",
              "      }\n",
              "    </script>\n",
              "  </div>\n",
              "\n",
              "\n",
              "<div id=\"df-8c209e66-7a74-469f-95a1-01dfc69a4ea4\">\n",
              "  <button class=\"colab-df-quickchart\" onclick=\"quickchart('df-8c209e66-7a74-469f-95a1-01dfc69a4ea4')\"\n",
              "            title=\"Suggest charts\"\n",
              "            style=\"display:none;\">\n",
              "\n",
              "<svg xmlns=\"http://www.w3.org/2000/svg\" height=\"24px\"viewBox=\"0 0 24 24\"\n",
              "     width=\"24px\">\n",
              "    <g>\n",
              "        <path d=\"M19 3H5c-1.1 0-2 .9-2 2v14c0 1.1.9 2 2 2h14c1.1 0 2-.9 2-2V5c0-1.1-.9-2-2-2zM9 17H7v-7h2v7zm4 0h-2V7h2v10zm4 0h-2v-4h2v4z\"/>\n",
              "    </g>\n",
              "</svg>\n",
              "  </button>\n",
              "\n",
              "<style>\n",
              "  .colab-df-quickchart {\n",
              "      --bg-color: #E8F0FE;\n",
              "      --fill-color: #1967D2;\n",
              "      --hover-bg-color: #E2EBFA;\n",
              "      --hover-fill-color: #174EA6;\n",
              "      --disabled-fill-color: #AAA;\n",
              "      --disabled-bg-color: #DDD;\n",
              "  }\n",
              "\n",
              "  [theme=dark] .colab-df-quickchart {\n",
              "      --bg-color: #3B4455;\n",
              "      --fill-color: #D2E3FC;\n",
              "      --hover-bg-color: #434B5C;\n",
              "      --hover-fill-color: #FFFFFF;\n",
              "      --disabled-bg-color: #3B4455;\n",
              "      --disabled-fill-color: #666;\n",
              "  }\n",
              "\n",
              "  .colab-df-quickchart {\n",
              "    background-color: var(--bg-color);\n",
              "    border: none;\n",
              "    border-radius: 50%;\n",
              "    cursor: pointer;\n",
              "    display: none;\n",
              "    fill: var(--fill-color);\n",
              "    height: 32px;\n",
              "    padding: 0;\n",
              "    width: 32px;\n",
              "  }\n",
              "\n",
              "  .colab-df-quickchart:hover {\n",
              "    background-color: var(--hover-bg-color);\n",
              "    box-shadow: 0 1px 2px rgba(60, 64, 67, 0.3), 0 1px 3px 1px rgba(60, 64, 67, 0.15);\n",
              "    fill: var(--button-hover-fill-color);\n",
              "  }\n",
              "\n",
              "  .colab-df-quickchart-complete:disabled,\n",
              "  .colab-df-quickchart-complete:disabled:hover {\n",
              "    background-color: var(--disabled-bg-color);\n",
              "    fill: var(--disabled-fill-color);\n",
              "    box-shadow: none;\n",
              "  }\n",
              "\n",
              "  .colab-df-spinner {\n",
              "    border: 2px solid var(--fill-color);\n",
              "    border-color: transparent;\n",
              "    border-bottom-color: var(--fill-color);\n",
              "    animation:\n",
              "      spin 1s steps(1) infinite;\n",
              "  }\n",
              "\n",
              "  @keyframes spin {\n",
              "    0% {\n",
              "      border-color: transparent;\n",
              "      border-bottom-color: var(--fill-color);\n",
              "      border-left-color: var(--fill-color);\n",
              "    }\n",
              "    20% {\n",
              "      border-color: transparent;\n",
              "      border-left-color: var(--fill-color);\n",
              "      border-top-color: var(--fill-color);\n",
              "    }\n",
              "    30% {\n",
              "      border-color: transparent;\n",
              "      border-left-color: var(--fill-color);\n",
              "      border-top-color: var(--fill-color);\n",
              "      border-right-color: var(--fill-color);\n",
              "    }\n",
              "    40% {\n",
              "      border-color: transparent;\n",
              "      border-right-color: var(--fill-color);\n",
              "      border-top-color: var(--fill-color);\n",
              "    }\n",
              "    60% {\n",
              "      border-color: transparent;\n",
              "      border-right-color: var(--fill-color);\n",
              "    }\n",
              "    80% {\n",
              "      border-color: transparent;\n",
              "      border-right-color: var(--fill-color);\n",
              "      border-bottom-color: var(--fill-color);\n",
              "    }\n",
              "    90% {\n",
              "      border-color: transparent;\n",
              "      border-bottom-color: var(--fill-color);\n",
              "    }\n",
              "  }\n",
              "</style>\n",
              "\n",
              "  <script>\n",
              "    async function quickchart(key) {\n",
              "      const quickchartButtonEl =\n",
              "        document.querySelector('#' + key + ' button');\n",
              "      quickchartButtonEl.disabled = true;  // To prevent multiple clicks.\n",
              "      quickchartButtonEl.classList.add('colab-df-spinner');\n",
              "      try {\n",
              "        const charts = await google.colab.kernel.invokeFunction(\n",
              "            'suggestCharts', [key], {});\n",
              "      } catch (error) {\n",
              "        console.error('Error during call to suggestCharts:', error);\n",
              "      }\n",
              "      quickchartButtonEl.classList.remove('colab-df-spinner');\n",
              "      quickchartButtonEl.classList.add('colab-df-quickchart-complete');\n",
              "    }\n",
              "    (() => {\n",
              "      let quickchartButtonEl =\n",
              "        document.querySelector('#df-8c209e66-7a74-469f-95a1-01dfc69a4ea4 button');\n",
              "      quickchartButtonEl.style.display =\n",
              "        google.colab.kernel.accessAllowed ? 'block' : 'none';\n",
              "    })();\n",
              "  </script>\n",
              "</div>\n",
              "    </div>\n",
              "  </div>\n"
            ],
            "application/vnd.google.colaboratory.intrinsic+json": {
              "type": "dataframe",
              "variable_name": "data",
              "summary": "{\n  \"name\": \"data\",\n  \"rows\": 150,\n  \"fields\": [\n    {\n      \"column\": \"sepal length (cm)\",\n      \"properties\": {\n        \"dtype\": \"number\",\n        \"std\": 0.8280661279778629,\n        \"min\": 4.3,\n        \"max\": 7.9,\n        \"num_unique_values\": 35,\n        \"samples\": [\n          6.2,\n          4.5,\n          5.6\n        ],\n        \"semantic_type\": \"\",\n        \"description\": \"\"\n      }\n    },\n    {\n      \"column\": \"sepal width (cm)\",\n      \"properties\": {\n        \"dtype\": \"number\",\n        \"std\": 0.435866284936698,\n        \"min\": 2.0,\n        \"max\": 4.4,\n        \"num_unique_values\": 23,\n        \"samples\": [\n          2.3,\n          4.0,\n          3.5\n        ],\n        \"semantic_type\": \"\",\n        \"description\": \"\"\n      }\n    },\n    {\n      \"column\": \"petal length (cm)\",\n      \"properties\": {\n        \"dtype\": \"number\",\n        \"std\": 1.7652982332594667,\n        \"min\": 1.0,\n        \"max\": 6.9,\n        \"num_unique_values\": 43,\n        \"samples\": [\n          6.7,\n          3.8,\n          3.7\n        ],\n        \"semantic_type\": \"\",\n        \"description\": \"\"\n      }\n    },\n    {\n      \"column\": \"petal width (cm)\",\n      \"properties\": {\n        \"dtype\": \"number\",\n        \"std\": 0.7622376689603465,\n        \"min\": 0.1,\n        \"max\": 2.5,\n        \"num_unique_values\": 22,\n        \"samples\": [\n          0.2,\n          1.2,\n          1.3\n        ],\n        \"semantic_type\": \"\",\n        \"description\": \"\"\n      }\n    }\n  ]\n}"
            }
          },
          "metadata": {},
          "execution_count": 24
        }
      ],
      "source": [
        "data.head()"
      ]
    },
    {
      "cell_type": "code",
      "execution_count": null,
      "id": "0dc8d8b2-e5fa-4bc4-9614-675d61e4f606",
      "metadata": {
        "id": "0dc8d8b2-e5fa-4bc4-9614-675d61e4f606",
        "colab": {
          "base_uri": "https://localhost:8080/"
        },
        "outputId": "49f9a443-29d2-495d-d7f4-de8d3b69019f"
      },
      "outputs": [
        {
          "output_type": "execute_result",
          "data": {
            "text/plain": [
              "array([0, 0, 0, 0, 0])"
            ]
          },
          "metadata": {},
          "execution_count": 25
        }
      ],
      "source": [
        "y[:5]"
      ]
    },
    {
      "cell_type": "markdown",
      "id": "velvet-macintosh",
      "metadata": {
        "id": "velvet-macintosh"
      },
      "source": [
        "### Задание 1. (0.5)\n",
        "\n",
        "Перейдём к задаче бинарной классификации: будем предсказывать принадлежность цветка к виду `versicolor` против принадлежности ко всем прочим видам. Перекодируйте зависимую переменную так, чтобы цветки вида `versicolor` (y=1) имели метку 1, а прочих видов – метку 0."
      ]
    },
    {
      "cell_type": "code",
      "execution_count": null,
      "id": "balanced-uzbekistan",
      "metadata": {
        "id": "balanced-uzbekistan"
      },
      "outputs": [],
      "source": [
        "... # YOUR CODE HERE"
      ]
    },
    {
      "cell_type": "markdown",
      "id": "imported-symphony",
      "metadata": {
        "id": "imported-symphony"
      },
      "source": [
        "### Задание 2. (0.5)\n",
        "\n",
        "Будем работать с двумя признаками: `sepal length (cm)` и `sepal width (cm)`. Построим диаграмму рассеяния по тренировочной выборке и убедитесь, что данные линейно не разделимы."
      ]
    },
    {
      "cell_type": "code",
      "execution_count": null,
      "id": "imperial-dealer",
      "metadata": {
        "id": "imperial-dealer"
      },
      "outputs": [],
      "source": [
        "# YOUR CODE HERE\n",
        "x_cols = ...\n",
        "X = ..."
      ]
    },
    {
      "cell_type": "code",
      "execution_count": null,
      "id": "8be2eb00-a2f4-43e7-8ec0-4e823cac218f",
      "metadata": {
        "id": "8be2eb00-a2f4-43e7-8ec0-4e823cac218f"
      },
      "outputs": [],
      "source": [
        "from sklearn.model_selection import train_test_split\n",
        "\n",
        "# делим данные на обучающую и тестовую выборки\n",
        "X_train, X_test, y_train, y_test = train_test_split(X, y, test_size=0.3, random_state=123)"
      ]
    },
    {
      "cell_type": "markdown",
      "id": "a705849e-fc58-416b-9e70-3b7bf9644036",
      "metadata": {
        "id": "a705849e-fc58-416b-9e70-3b7bf9644036"
      },
      "source": [
        "Приведем значения всех входных признаков к одному масштабу. Для этого применим функцию `StandardScaler`. Это преобразование приводит значения каждого признака к нулевому среднему и единичной дисперсии:\n",
        "\n",
        "$$\n",
        "X_{new} = \\frac{X - \\mu}{\\sigma}\n",
        "$$\n",
        "\n",
        "где, $\\mu$ - среднее значение признака\n",
        "\n",
        "$\\sigma$ - стандартное отклонение значений признака"
      ]
    },
    {
      "cell_type": "code",
      "execution_count": null,
      "id": "78f784c6-5811-4d69-828c-f46aa70fcc60",
      "metadata": {
        "id": "78f784c6-5811-4d69-828c-f46aa70fcc60"
      },
      "outputs": [],
      "source": [
        "from sklearn.preprocessing import StandardScaler\n",
        "\n",
        "ss = StandardScaler()\n",
        "ss.fit(X_train, y_train) # считаем \\mu и \\sigma\n",
        "\n",
        "# делаем преобразование данных\n",
        "X_train_ss = ss.transform(X_train)\n",
        "X_test_ss = ss.transform(X_test)"
      ]
    },
    {
      "cell_type": "code",
      "execution_count": null,
      "id": "443a2c2b",
      "metadata": {
        "id": "443a2c2b"
      },
      "outputs": [],
      "source": [
        "plt.scatter(X_train_ss[:, 0], X_train_ss[:, 1], c=y_train)\n",
        "plt.show()"
      ]
    },
    {
      "cell_type": "markdown",
      "id": "nominated-nightmare",
      "metadata": {
        "id": "nominated-nightmare"
      },
      "source": [
        "### Задание 3. (0.5)\n",
        "\n",
        "Сравним качество для KNN и логрега."
      ]
    },
    {
      "cell_type": "code",
      "execution_count": null,
      "id": "7dccb88b-70ee-41ac-aaec-4f9bb7fe5f0c",
      "metadata": {
        "id": "7dccb88b-70ee-41ac-aaec-4f9bb7fe5f0c"
      },
      "outputs": [],
      "source": [
        "from sklearn.linear_model import LogisticRegression\n",
        "from sklearn.neighbors import KNeighborsClassifier"
      ]
    },
    {
      "cell_type": "code",
      "execution_count": null,
      "id": "imperial-saskatchewan",
      "metadata": {
        "id": "imperial-saskatchewan"
      },
      "outputs": [],
      "source": [
        "knn = KNeighborsClassifier(n_neighbors=5)\n",
        "logreg = LogisticRegression()"
      ]
    },
    {
      "cell_type": "markdown",
      "id": "cb6f9b02-3f7f-4118-bf07-19b64a12af90",
      "metadata": {
        "id": "cb6f9b02-3f7f-4118-bf07-19b64a12af90"
      },
      "source": [
        "#### Обучение"
      ]
    },
    {
      "cell_type": "code",
      "execution_count": null,
      "id": "b2132597",
      "metadata": {
        "id": "b2132597"
      },
      "outputs": [],
      "source": [
        "# обучите классификаторы knn и logreg\n",
        "\n",
        "# YOUR CODE HERE"
      ]
    },
    {
      "cell_type": "markdown",
      "id": "d3e6625e-dbce-4798-9369-66e56165f8cf",
      "metadata": {
        "id": "d3e6625e-dbce-4798-9369-66e56165f8cf"
      },
      "source": [
        "#### Прогноз метки класса"
      ]
    },
    {
      "cell_type": "code",
      "execution_count": null,
      "id": "62965ba0",
      "metadata": {
        "id": "62965ba0"
      },
      "outputs": [],
      "source": [
        "# получите прогнозы для тестовой выборки\n",
        "\n",
        "y_test_pred_knn = ... # YOUR CODE HERE\n",
        "y_test_pred_logreg = ... # YOUR CODE HERE"
      ]
    },
    {
      "cell_type": "code",
      "execution_count": null,
      "id": "b3177ed4-f6a8-4652-bb64-e10825f1842f",
      "metadata": {
        "id": "b3177ed4-f6a8-4652-bb64-e10825f1842f"
      },
      "outputs": [],
      "source": [
        "y_test_pred_knn[:5], y_test_pred_logreg[:5]"
      ]
    },
    {
      "cell_type": "markdown",
      "id": "aa87f46c-c6b4-46c3-822e-9fa4477695b6",
      "metadata": {
        "id": "aa87f46c-c6b4-46c3-822e-9fa4477695b6"
      },
      "source": [
        "#### Прогноз вероятности класса"
      ]
    },
    {
      "cell_type": "code",
      "execution_count": null,
      "id": "10378dd9-b25d-4feb-9751-d15af7327212",
      "metadata": {
        "id": "10378dd9-b25d-4feb-9751-d15af7327212"
      },
      "outputs": [],
      "source": [
        "y_test_proba_knn = knn.predict_proba(X_test_ss)\n",
        "y_test_proba_logreg = logreg.predict_proba(X_test_ss)"
      ]
    },
    {
      "cell_type": "code",
      "execution_count": null,
      "id": "a15978f3-0774-4920-9239-c0c9892fcb0a",
      "metadata": {
        "id": "a15978f3-0774-4920-9239-c0c9892fcb0a"
      },
      "outputs": [],
      "source": [
        "y_test_proba_knn[:5]"
      ]
    },
    {
      "cell_type": "code",
      "execution_count": null,
      "id": "e3f7fb61-be17-470a-99ff-f243959908b4",
      "metadata": {
        "id": "e3f7fb61-be17-470a-99ff-f243959908b4"
      },
      "outputs": [],
      "source": [
        "y_test_proba_logreg[:5]"
      ]
    },
    {
      "cell_type": "markdown",
      "id": "c03f07c6-7fe2-4d10-9a56-bd657d373f3a",
      "metadata": {
        "id": "c03f07c6-7fe2-4d10-9a56-bd657d373f3a"
      },
      "source": [
        "#### Метрика качества"
      ]
    },
    {
      "cell_type": "code",
      "execution_count": null,
      "id": "exact-bailey",
      "metadata": {
        "id": "exact-bailey"
      },
      "outputs": [],
      "source": [
        "from sklearn.metrics import accuracy_score\n",
        "print(f'KNN: {accuracy_score(y_test, y_test_pred_knn)}')\n",
        "print(f'LogReg: {accuracy_score(y_test, y_test_pred_logreg)}')"
      ]
    },
    {
      "cell_type": "markdown",
      "id": "945470c3-3cee-440b-b2df-b152e0626621",
      "metadata": {
        "id": "945470c3-3cee-440b-b2df-b152e0626621"
      },
      "source": [
        "#### Строим разделяющую поверность"
      ]
    },
    {
      "cell_type": "code",
      "execution_count": null,
      "id": "014fcc56-d6a4-45bf-8d4c-944ef222d591",
      "metadata": {
        "id": "014fcc56-d6a4-45bf-8d4c-944ef222d591"
      },
      "outputs": [],
      "source": [
        "# !pip install mlxtend"
      ]
    },
    {
      "cell_type": "code",
      "execution_count": null,
      "id": "04bdac20",
      "metadata": {
        "id": "04bdac20"
      },
      "outputs": [],
      "source": [
        "from mlxtend.plotting import plot_decision_regions\n",
        "\n",
        "plt.figure(figsize=(12,8))\n",
        "plot_decision_regions(X_train_ss, y_train, clf=knn, legend=2)\n",
        "plt.title('Разделяющая поверхность для KNN')"
      ]
    },
    {
      "cell_type": "code",
      "execution_count": null,
      "id": "e862265f",
      "metadata": {
        "id": "e862265f"
      },
      "outputs": [],
      "source": [
        "plt.figure(figsize=(12,8))\n",
        "plot_decision_regions(X_train_ss, y_train, clf=logreg, legend=2)\n",
        "plt.title('Разделяющая поверхность для логрега')"
      ]
    },
    {
      "cell_type": "markdown",
      "id": "unsigned-petite",
      "metadata": {
        "id": "unsigned-petite"
      },
      "source": [
        "Теперь изучим свойства каждого классификатора по-отдельности. Начнём с логистической регрессии.\n",
        "\n",
        "### Задание 4. (0.5)\n",
        "\n",
        "Обучите три различные логистические регрессии с разным параметром регуляризации $C$."
      ]
    },
    {
      "cell_type": "code",
      "execution_count": null,
      "id": "happy-origin",
      "metadata": {
        "id": "happy-origin"
      },
      "outputs": [],
      "source": [
        "# YOUR CODE HERE\n",
        "\n",
        "logreg_1 = ... # C=0.01\n",
        "logreg_2 = ... # C=0.05\n",
        "logreg_3 = ... # C=10"
      ]
    },
    {
      "cell_type": "code",
      "execution_count": null,
      "id": "victorian-danger",
      "metadata": {
        "id": "victorian-danger"
      },
      "outputs": [],
      "source": [
        "fig, axes = plt.subplots(ncols=3, figsize=(12, 8))\n",
        "pipes = [logreg_1, logreg_2, logreg_3]\n",
        "\n",
        "\n",
        "for ind, clf in enumerate(pipes):\n",
        "    clf.fit(X_train_ss, y_train)\n",
        "    y_test_pred = clf.predict(X_test_ss)\n",
        "    score = accuracy_score(y_test, y_test_pred)\n",
        "    print(f\"Acc., C={clf.get_params()['C']}: \", score)\n",
        "    fig = plot_decision_regions(X_train_ss, y_train, clf=clf, legend=2, ax=axes[ind])\n",
        "    fig.set_title(f\"C={clf.get_params()['C']}\", fontsize=16)\n"
      ]
    },
    {
      "cell_type": "markdown",
      "id": "handy-bolivia",
      "metadata": {
        "id": "handy-bolivia"
      },
      "source": [
        "Перейдём к KNN.\n",
        "\n",
        "### Задание 5. (0.5)\n",
        "\n",
        "Обучите три KNN с разным числом соседей."
      ]
    },
    {
      "cell_type": "code",
      "execution_count": null,
      "id": "patent-chess",
      "metadata": {
        "id": "patent-chess"
      },
      "outputs": [],
      "source": [
        "# YOUR CODE HERE\n",
        "\n",
        "knn_1 = ... # n_neighbors=1\n",
        "knn_2 = ... # n_neighbors=5\n",
        "knn_3 = ... # n_neighbors=50"
      ]
    },
    {
      "cell_type": "code",
      "execution_count": null,
      "id": "local-revolution",
      "metadata": {
        "id": "local-revolution"
      },
      "outputs": [],
      "source": [
        "fig, axes = plt.subplots(ncols=3, figsize=(12, 8))\n",
        "pipes = [knn_1, knn_2, knn_3]\n",
        "\n",
        "\n",
        "for ind, clf in enumerate(pipes):\n",
        "    clf.fit(X_train_ss, y_train)\n",
        "    y_test_pred = clf.predict(X_test_ss)\n",
        "    score = accuracy_score(y_test, y_test_pred)\n",
        "    print(f\"Acc., n_neighbors={clf.get_params()['n_neighbors']}: \", score)\n",
        "    fig = plot_decision_regions(X_train_ss, y_train, clf=clf, legend=2, ax=axes[ind])\n",
        "    fig.set_title(f\"n_neighbors={clf.get_params()['n_neighbors']}\", fontsize=16)"
      ]
    },
    {
      "cell_type": "markdown",
      "id": "110c7923-494d-4aac-b9de-5cf7a7800efa",
      "metadata": {
        "id": "110c7923-494d-4aac-b9de-5cf7a7800efa"
      },
      "source": [
        "## Нелинейные поверхности"
      ]
    },
    {
      "cell_type": "code",
      "execution_count": null,
      "id": "87806867-501d-42e0-b8b1-f07b25346932",
      "metadata": {
        "id": "87806867-501d-42e0-b8b1-f07b25346932"
      },
      "outputs": [],
      "source": [
        "from sklearn.datasets import make_circles\n",
        "\n",
        "X, y = make_circles(n_samples=200, shuffle=True, noise = 0.1, factor=0.1)"
      ]
    },
    {
      "cell_type": "code",
      "execution_count": null,
      "id": "d2932909-b194-482f-88f4-8853f70e8552",
      "metadata": {
        "id": "d2932909-b194-482f-88f4-8853f70e8552"
      },
      "outputs": [],
      "source": [
        "plt.scatter(X[:, 0], X[:, 1], c=y)"
      ]
    },
    {
      "cell_type": "code",
      "execution_count": null,
      "id": "48f677a4-fe0b-4d83-8c69-efed2b1eafcc",
      "metadata": {
        "id": "48f677a4-fe0b-4d83-8c69-efed2b1eafcc"
      },
      "outputs": [],
      "source": [
        "# делим данные на обучение и тест\n",
        "X_train, X_test, y_train, y_test = train_test_split(X, y, test_size=0.3, random_state=123)"
      ]
    },
    {
      "cell_type": "code",
      "execution_count": null,
      "id": "11b83192-2327-4b88-8dce-6611e011bc20",
      "metadata": {
        "id": "11b83192-2327-4b88-8dce-6611e011bc20"
      },
      "outputs": [],
      "source": [
        "# обучаем модель\n",
        "logreg = LogisticRegression()\n",
        "logreg.fit(X_train, y_train)"
      ]
    },
    {
      "cell_type": "code",
      "execution_count": null,
      "id": "4191ef82-b0e8-4b4a-9ffd-eec3c683bd1b",
      "metadata": {
        "id": "4191ef82-b0e8-4b4a-9ffd-eec3c683bd1b"
      },
      "outputs": [],
      "source": [
        "plt.figure(figsize=(12,8))\n",
        "plot_decision_regions(X_train, y_train, clf=logreg, legend=2)\n",
        "plt.title('Разделяющая поверхность для логрега')"
      ]
    },
    {
      "cell_type": "markdown",
      "id": "e67aaaf9-74d4-40d4-b6ac-ea2475b04c3e",
      "metadata": {
        "id": "e67aaaf9-74d4-40d4-b6ac-ea2475b04c3e"
      },
      "source": [
        "### Добавим новый признак\n",
        "\n",
        "$$\n",
        "X_3 = X_1^{2} + X_2^{2}\n",
        "$$"
      ]
    },
    {
      "cell_type": "code",
      "execution_count": null,
      "id": "070d9127-d24f-4031-b370-489f0d3e73db",
      "metadata": {
        "id": "070d9127-d24f-4031-b370-489f0d3e73db"
      },
      "outputs": [],
      "source": [
        "X1 = X[:,0]\n",
        "X2 = X[:,1]\n",
        "X3 = X1**2+X2**2\n",
        "\n",
        "X_new = np.c_[X1, X2, X3]"
      ]
    },
    {
      "cell_type": "code",
      "execution_count": null,
      "id": "b983936b-de4a-4b2e-8f80-b9b3c3f67782",
      "metadata": {
        "id": "b983936b-de4a-4b2e-8f80-b9b3c3f67782"
      },
      "outputs": [],
      "source": [
        "# делим данные на обучение и тест\n",
        "X_train, X_test, y_train, y_test = train_test_split(X_new, y, test_size=0.3, random_state=123)"
      ]
    },
    {
      "cell_type": "code",
      "execution_count": null,
      "id": "77b66f97-85d1-43b0-b5a6-a31e32f0fadd",
      "metadata": {
        "id": "77b66f97-85d1-43b0-b5a6-a31e32f0fadd"
      },
      "outputs": [],
      "source": [
        "# обучаем модель\n",
        "logreg = LogisticRegression()\n",
        "logreg.fit(X_train, y_train)"
      ]
    },
    {
      "cell_type": "code",
      "execution_count": null,
      "id": "8be80110-fae1-4287-8b9f-6a5bd964e66f",
      "metadata": {
        "id": "8be80110-fae1-4287-8b9f-6a5bd964e66f"
      },
      "outputs": [],
      "source": [
        "# Строим разделяющую границу\n",
        "\n",
        "x0, x1 = np.meshgrid(np.arange(-1.5, 1.5, 0.01), np.arange(-1.5, 1.5, 0.01))\n",
        "xx0, xx1 = x0.ravel(), x1.ravel()\n",
        "X_grid = np.c_[xx0, xx1, xx0**2 + xx1**2]\n",
        "\n",
        "y_pred = logreg.predict(X_grid)\n",
        "y_pred = y_pred.reshape(x0.shape)\n",
        "\n",
        "plt.figure(figsize=(12,8))\n",
        "plt.contourf(x0, x1, y_pred, levels=1, cmap=plt.cm.seismic, alpha=0.2)\n",
        "plt.colorbar()\n",
        "plt.scatter(X[y==0,0], X[y==0, 1], c='b')\n",
        "plt.scatter(X[y==1,0], X[y==1, 1], c='r')"
      ]
    },
    {
      "cell_type": "code",
      "execution_count": null,
      "id": "b6e4c6ae-5684-4f3a-8c83-1d54115e078f",
      "metadata": {
        "id": "b6e4c6ae-5684-4f3a-8c83-1d54115e078f"
      },
      "outputs": [],
      "source": [
        "# Строим разделяющую границу\n",
        "\n",
        "x0, x1 = np.meshgrid(np.arange(-1.5, 1.5, 0.01), np.arange(-1.5, 1.5, 0.01))\n",
        "xx0, xx1 = x0.ravel(), x1.ravel()\n",
        "X_grid = np.c_[xx0, xx1, xx0**2 + xx1**2]\n",
        "\n",
        "y_pred = logreg.predict_proba(X_grid)[:, 1]\n",
        "y_pred = y_pred.reshape(x0.shape)\n",
        "\n",
        "plt.figure(figsize=(12,8))\n",
        "plt.contourf(x0, x1, y_pred, levels=20, cmap=plt.cm.seismic, alpha=0.5)\n",
        "plt.colorbar()\n",
        "plt.scatter(X[y==0,0], X[y==0, 1], c='0')\n",
        "plt.scatter(X[y==1,0], X[y==1, 1], c='0')"
      ]
    },
    {
      "cell_type": "code",
      "execution_count": null,
      "id": "865ba706-6577-4caa-ba93-dc2af360e506",
      "metadata": {
        "id": "865ba706-6577-4caa-ba93-dc2af360e506"
      },
      "outputs": [],
      "source": []
    }
  ],
  "metadata": {
    "colab": {
      "provenance": []
    },
    "kernelspec": {
      "display_name": "Python 3",
      "language": "python",
      "name": "python3"
    },
    "language_info": {
      "codemirror_mode": {
        "name": "ipython",
        "version": 3
      },
      "file_extension": ".py",
      "mimetype": "text/x-python",
      "name": "python",
      "nbconvert_exporter": "python",
      "pygments_lexer": "ipython3",
      "version": "3.8.10"
    }
  },
  "nbformat": 4,
  "nbformat_minor": 5
}